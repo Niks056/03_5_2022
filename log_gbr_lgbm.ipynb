{
 "cells": [
  {
   "cell_type": "code",
   "execution_count": 1,
   "metadata": {},
   "outputs": [],
   "source": [
    "import pandas as pd"
   ]
  },
  {
   "cell_type": "code",
   "execution_count": 2,
   "metadata": {},
   "outputs": [],
   "source": [
    "train=pd.read_csv(\"train_wn75k28.csv\")\n",
    "test=pd.read_csv(\"test_Wf7sxXF.csv\")"
   ]
  },
  {
   "cell_type": "code",
   "execution_count": 3,
   "metadata": {},
   "outputs": [],
   "source": [
    "## products_purchased , signup_date"
   ]
  },
  {
   "cell_type": "code",
   "execution_count": 4,
   "metadata": {},
   "outputs": [],
   "source": [
    "train[\"created_at\"]=pd.to_datetime(train[\"created_at\"])\n",
    "train[\"signup_date\"]=pd.to_datetime(train[\"signup_date\"])"
   ]
  },
  {
   "cell_type": "code",
   "execution_count": 5,
   "metadata": {},
   "outputs": [],
   "source": [
    "test[\"created_at\"]=pd.to_datetime(test[\"created_at\"])\n",
    "test[\"signup_date\"]=pd.to_datetime(test[\"signup_date\"])"
   ]
  },
  {
   "cell_type": "code",
   "execution_count": 6,
   "metadata": {},
   "outputs": [],
   "source": [
    "train['signup_date']=train['signup_date'].ffill()\n",
    "train[\"products_purchased\"]=train[\"products_purchased\"].fillna(0)\n",
    "train[\"created_at_year\"]=pd.to_datetime(train[\"created_at\"]).dt.year\n",
    "train[\"created_at_month\"]=pd.to_datetime(train[\"created_at\"]).dt.month\n",
    "train[\"created_at_day\"]=pd.to_datetime(train[\"created_at\"]).dt.day\n",
    "train[\"signup_date_year\"]=pd.to_datetime(train[\"signup_date\"]).dt.year\n",
    "train[\"signup_date_month\"]=pd.to_datetime(train[\"signup_date\"]).dt.month\n",
    "train[\"signup_date_day\"]=pd.to_datetime(train[\"signup_date\"]).dt.day\n",
    "train=train.drop([\"created_at\",\"signup_date\"],axis=1)"
   ]
  },
  {
   "cell_type": "code",
   "execution_count": 7,
   "metadata": {},
   "outputs": [],
   "source": [
    "test[\"products_purchased\"]=test[\"products_purchased\"].fillna(0)\n",
    "test['signup_date']=test['signup_date'].ffill()\n",
    "test[\"created_at_year\"]=pd.to_datetime(test[\"created_at\"]).dt.year\n",
    "test[\"created_at_month\"]=pd.to_datetime(test[\"created_at\"]).dt.month\n",
    "test[\"created_at_day\"]=pd.to_datetime(test[\"created_at\"]).dt.day\n",
    "test[\"signup_date_year\"]=pd.to_datetime(test[\"signup_date\"]).dt.year\n",
    "test[\"signup_date_month\"]=pd.to_datetime(test[\"signup_date\"]).dt.month\n",
    "test[\"signup_date_day\"]=pd.to_datetime(test[\"signup_date\"]).dt.day\n",
    "test=test.drop([\"created_at\",\"signup_date\"],axis=1)"
   ]
  },
  {
   "cell_type": "code",
   "execution_count": 8,
   "metadata": {},
   "outputs": [],
   "source": [
    "X=train.drop([\"buy\",\"id\"],axis=1)\n",
    "y=train[\"buy\"]"
   ]
  },
  {
   "cell_type": "code",
   "execution_count": 9,
   "metadata": {},
   "outputs": [],
   "source": [
    "X_test1=test.drop([\"id\"],axis=1)"
   ]
  },
  {
   "cell_type": "markdown",
   "metadata": {},
   "source": [
    "## Standard Scalar"
   ]
  },
  {
   "cell_type": "code",
   "execution_count": 10,
   "metadata": {},
   "outputs": [],
   "source": [
    "from sklearn.preprocessing import StandardScaler"
   ]
  },
  {
   "cell_type": "code",
   "execution_count": 11,
   "metadata": {},
   "outputs": [],
   "source": [
    "scaler = StandardScaler()\n",
    "X=scaler.fit_transform(X)\n",
    "X_test1=scaler.fit_transform(X_test1)"
   ]
  },
  {
   "cell_type": "markdown",
   "metadata": {},
   "source": [
    "## Logistic Regression"
   ]
  },
  {
   "cell_type": "code",
   "execution_count": 12,
   "metadata": {},
   "outputs": [],
   "source": [
    "from sklearn.linear_model import LogisticRegression"
   ]
  },
  {
   "cell_type": "code",
   "execution_count": 13,
   "metadata": {},
   "outputs": [],
   "source": [
    "lr_clf=LogisticRegression(n_jobs=-1).fit(X,y)\n",
    "lr_clf.score(X,y)\n",
    "predicted_values=lr_clf.predict(X_test1)"
   ]
  },
  {
   "cell_type": "code",
   "execution_count": 14,
   "metadata": {},
   "outputs": [],
   "source": [
    "results=pd.DataFrame({\"id\":test[\"id\"],\"buy\":predicted_values})\n",
    "results.to_csv(\"results.csv\",index=False)"
   ]
  },
  {
   "cell_type": "markdown",
   "metadata": {},
   "source": [
    "## LGBM"
   ]
  },
  {
   "cell_type": "code",
   "execution_count": null,
   "metadata": {},
   "outputs": [],
   "source": [
    "from lightgbm import LGBMRegressor"
   ]
  },
  {
   "cell_type": "code",
   "execution_count": null,
   "metadata": {},
   "outputs": [],
   "source": [
    "lgbm_clf=LGBMRegressor()\n",
    "lgbm_clf.fit(X,y)\n",
    "lgbm_clf.score(X,y)"
   ]
  },
  {
   "cell_type": "code",
   "execution_count": null,
   "metadata": {},
   "outputs": [],
   "source": [
    "predicted_probability=lgbm_clf.predict(X_test1)\n",
    "predicted_flag=[1 if x>0.5 else 0 for x in predicted_probability]"
   ]
  },
  {
   "cell_type": "code",
   "execution_count": null,
   "metadata": {},
   "outputs": [],
   "source": [
    "results2=pd.DataFrame({\"id\":test[\"id\"],\"buy\":predicted_flag})\n",
    "results2.to_csv(\"results2.csv\",index=False)"
   ]
  },
  {
   "cell_type": "markdown",
   "metadata": {},
   "source": [
    "## LGBM 2"
   ]
  },
  {
   "cell_type": "code",
   "execution_count": null,
   "metadata": {},
   "outputs": [],
   "source": [
    "from lightgbm import LGBMClassifier"
   ]
  },
  {
   "cell_type": "code",
   "execution_count": null,
   "metadata": {},
   "outputs": [],
   "source": [
    "lgbm_clf_2=LGBMClassifier(subsample= 0.6, reg_lamda =1, reg_alpha =0.1,\n",
    "                          n_estimators=100, min_data_in_leaf =10, \n",
    "                           max_depth=4, learning_rate =0.05, colsample_bytree = 0.6, alpha =0.7)\n",
    "lgbm_clf_2.fit(X,y)\n",
    "lgbm_clf_2.score(X,y)"
   ]
  },
  {
   "cell_type": "code",
   "execution_count": null,
   "metadata": {},
   "outputs": [],
   "source": [
    "predicted_flag=lgbm_clf_2.predict(test)"
   ]
  },
  {
   "cell_type": "code",
   "execution_count": null,
   "metadata": {},
   "outputs": [],
   "source": [
    "results8=pd.DataFrame({\"id\":test[\"id\"],\"buy\":predicted_flag})\n",
    "results8.to_csv(\"results8.csv\",index=False)"
   ]
  },
  {
   "cell_type": "markdown",
   "metadata": {},
   "source": [
    "## Gradient Booster "
   ]
  },
  {
   "cell_type": "code",
   "execution_count": null,
   "metadata": {},
   "outputs": [],
   "source": [
    "from sklearn.ensemble import GradientBoostingClassifier"
   ]
  },
  {
   "cell_type": "code",
   "execution_count": null,
   "metadata": {},
   "outputs": [],
   "source": [
    "gbr_clf=GradientBoostingClassifier(subsample=0.8999999999999999,n_estimators= 1100, \n",
    "                                   min_samples_split=12, min_samples_leaf = 4, max_depth =4, \n",
    "                                   learning_rate =0.01)\n",
    "gbr_clf.fit(X,y)"
   ]
  },
  {
   "cell_type": "code",
   "execution_count": null,
   "metadata": {},
   "outputs": [],
   "source": [
    "predicted_flag=gbr_clf.predict(X_test1)"
   ]
  },
  {
   "cell_type": "code",
   "execution_count": null,
   "metadata": {},
   "outputs": [],
   "source": [
    "results8=pd.DataFrame({\"id\":test[\"id\"],\"buy\":predicted_flag})\n",
    "results8.to_csv(\"results8.csv\",index=False)"
   ]
  },
  {
   "cell_type": "markdown",
   "metadata": {},
   "source": [
    "## CROSS VALIDATION"
   ]
  },
  {
   "cell_type": "code",
   "execution_count": null,
   "metadata": {},
   "outputs": [],
   "source": [
    "from sklearn.model_selection import train_test_split\n",
    "from sklearn.model_selection import cross_val_score "
   ]
  },
  {
   "cell_type": "code",
   "execution_count": null,
   "metadata": {},
   "outputs": [],
   "source": [
    "X_train, X_test, y_train, y_test = train_test_split(X, y,test_size=0.3, random_state=0)"
   ]
  },
  {
   "cell_type": "code",
   "execution_count": null,
   "metadata": {},
   "outputs": [],
   "source": [
    "cross_val_score(lr_clf, X, y, cv=5,scoring='f1')"
   ]
  },
  {
   "cell_type": "markdown",
   "metadata": {},
   "source": [
    "## Hyper Parameter Tuning"
   ]
  },
  {
   "cell_type": "code",
   "execution_count": null,
   "metadata": {},
   "outputs": [
    {
     "data": {
      "application/javascript": [
       "\n",
       "        if (window._pyforest_update_imports_cell) { window._pyforest_update_imports_cell('import numpy as np'); }\n",
       "    "
      ],
      "text/plain": [
       "<IPython.core.display.Javascript object>"
      ]
     },
     "metadata": {},
     "output_type": "display_data"
    },
    {
     "data": {
      "application/javascript": [
       "\n",
       "        if (window._pyforest_update_imports_cell) { window._pyforest_update_imports_cell('import numpy as np'); }\n",
       "    "
      ],
      "text/plain": [
       "<IPython.core.display.Javascript object>"
      ]
     },
     "metadata": {},
     "output_type": "display_data"
    },
    {
     "data": {
      "application/javascript": [
       "\n",
       "        if (window._pyforest_update_imports_cell) { window._pyforest_update_imports_cell('from sklearn.model_selection import RandomizedSearchCV\\nimport numpy as np'); }\n",
       "    "
      ],
      "text/plain": [
       "<IPython.core.display.Javascript object>"
      ]
     },
     "metadata": {},
     "output_type": "display_data"
    }
   ],
   "source": [
    "from sklearn.ensemble import GradientBoostingClassifier\n",
    "model = GradientBoostingClassifier()\n",
    "\n",
    "parameters = {'n_estimators': [i for i in range(1000,2000,100)],\n",
    "              'learning_rate':[i for i in np.arange(0.01,0.05,0.01)],\n",
    "              'max_depth': [i for i in range(3,10,1)],\n",
    "              'min_samples_leaf': [i for i in range(1,10,1)],\n",
    "              'min_samples_split': [i for i in range(5,15,1)],\n",
    "              'subsample':[i for i in np.arange(0.4,1.0,0.1)]}\n",
    "\n",
    "randm = RandomizedSearchCV(estimator=model, param_distributions=parameters,\n",
    "                               cv =5, n_iter = 20, n_jobs=-1,scoring='f1')\n",
    "randm.fit(X,y)\n",
    "print(\" Results from Random Search\" )\n",
    "print(randm.score(X,y))\n",
    "print(\"The best score across ALL searched params:\", randm.best_score_)\n",
    "print(\"The best parameters across ALL searched params:\",randm.best_params_)"
   ]
  },
  {
   "cell_type": "markdown",
   "metadata": {},
   "source": [
    "## Random Search  Best LGBMCLASSIFIER"
   ]
  },
  {
   "cell_type": "code",
   "execution_count": null,
   "metadata": {},
   "outputs": [],
   "source": [
    "from lightgbm import LGBMClassifier\n",
    "model = LGBMClassifier()\n",
    "parameters = {'n_estimators': [10, 100,200, 500, 1000, 2000],\n",
    "              'learning_rate':[0.01,0.02,0.05,0.1],\n",
    "              'max_depth': [1,2,3,4,5,6,7,8],\n",
    "              'min_data_in_leaf': [1,5,10,20,30],\n",
    "              'subsample':[0.5,0.6,0.7,0.8,0.9],\n",
    "              'colsample_bytree':[0.5,0.6,0.7,0.8,0.9],\n",
    "              'alpha':[0.5,0.6,0.7,0.8,0.9],\n",
    "              'reg_alpha':[0, 1e-1, 1, 2, 5, 7, 10, 50, 100],\n",
    "              'reg_lamda': [0, 1e-1, 1, 5, 10, 20, 50, 100]}\n",
    "\n",
    "randm = RandomizedSearchCV(estimator=model, param_distributions=parameters,\n",
    "                               cv = 5, n_iter = 20, n_jobs=-1,scoring='f1')\n",
    "randm.fit(X,y)\n",
    "print(\" Results from Random Search \" )\n",
    "#print(\"The best estimator across ALL searched params:\",randm.best_estimator_)\n",
    "print(\"Trainning Score\",randm.score(X,y))\n",
    "#print(\"Testing Score\",randm.score(X_test_std,Y_test))\n",
    "print(\"The best parameters across ALL searched params:\",randm.best_params_)"
   ]
  },
  {
   "cell_type": "code",
   "execution_count": null,
   "metadata": {},
   "outputs": [],
   "source": []
  }
 ],
 "metadata": {
  "kernelspec": {
   "display_name": "Python 3",
   "language": "python",
   "name": "python3"
  },
  "language_info": {
   "codemirror_mode": {
    "name": "ipython",
    "version": 3
   },
   "file_extension": ".py",
   "mimetype": "text/x-python",
   "name": "python",
   "nbconvert_exporter": "python",
   "pygments_lexer": "ipython3",
   "version": "3.7.6"
  }
 },
 "nbformat": 4,
 "nbformat_minor": 4
}
